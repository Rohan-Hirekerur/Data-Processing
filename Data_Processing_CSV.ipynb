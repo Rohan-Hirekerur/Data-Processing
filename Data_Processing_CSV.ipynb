{
  "nbformat": 4,
  "nbformat_minor": 0,
  "metadata": {
    "colab": {
      "name": "Data Processing : CSV.ipynb",
      "provenance": [],
      "mount_file_id": "1kYtU8M2HYbLOTqZR07CS_QYHbQilqjQc",
      "authorship_tag": "ABX9TyPQ1E1K5QEd8jepLSL6I+yq",
      "include_colab_link": true
    },
    "kernelspec": {
      "name": "python3",
      "display_name": "Python 3"
    }
  },
  "cells": [
    {
      "cell_type": "markdown",
      "metadata": {
        "id": "view-in-github",
        "colab_type": "text"
      },
      "source": [
        "<a href=\"https://colab.research.google.com/github/Rohan-Hirekerur/Data-Processing/blob/master/Data_Processing_CSV.ipynb\" target=\"_parent\"><img src=\"https://colab.research.google.com/assets/colab-badge.svg\" alt=\"Open In Colab\"/></a>"
      ]
    },
    {
      "cell_type": "markdown",
      "metadata": {
        "id": "BifAGZ4Y69g8",
        "colab_type": "text"
      },
      "source": [
        "# Data Processing : CSV"
      ]
    },
    {
      "cell_type": "markdown",
      "metadata": {
        "id": "4pHbFOWm7Crx",
        "colab_type": "text"
      },
      "source": [
        "The CSV datasets that are readily available may not always be processed and some cleanup may be required. This is a pretty common step in Machine Learning(ML) and Deep Learning(DL) projects.\n",
        "\n",
        "In this article, I'll cover basic techniques for data pre-processing and preparing your CSV dataset for ML/DL applications in Python. Depending on application, you may need to execute some or all of these steps…"
      ]
    },
    {
      "cell_type": "markdown",
      "metadata": {
        "id": "mA2SjklJ7JTB",
        "colab_type": "text"
      },
      "source": [
        "Pre-processing Tasks :\n",
        "\n",
        "* Importing the dataset.\n",
        "* Separating the dependent and independent variables.\n",
        "* Handling missing data.\n",
        "* Encoding categorical data.\n",
        "* Splitting the dataset (Train Set and Test set).\n",
        "* Feature Scaling.\n"
      ]
    },
    {
      "cell_type": "markdown",
      "metadata": {
        "id": "pw80z4vE7zJJ",
        "colab_type": "text"
      },
      "source": [
        "## Importing the dataset :"
      ]
    },
    {
      "cell_type": "markdown",
      "metadata": {
        "id": "n5bZdw0477Cw",
        "colab_type": "text"
      },
      "source": [
        "Different libraries can be used for importing the dataset, I prefer Pandas as it's the easiest to use and provides a lot of operations on data all in one place. Also, pandas has integrated functions to read CSV, making the data import task, a breeze."
      ]
    },
    {
      "cell_type": "code",
      "metadata": {
        "id": "WBkpk7c26kNX",
        "colab_type": "code",
        "colab": {}
      },
      "source": [
        "import pandas as pd\n",
        "dataset = pd.read_csv('/content/drive/My Drive/Data.csv')"
      ],
      "execution_count": 29,
      "outputs": []
    },
    {
      "cell_type": "markdown",
      "metadata": {
        "id": "_IMO1lwz8CVe",
        "colab_type": "text"
      },
      "source": [
        "## Separating the dependent and independent variables :"
      ]
    },
    {
      "cell_type": "markdown",
      "metadata": {
        "id": "fHZtdPcU8GI5",
        "colab_type": "text"
      },
      "source": [
        "In simple terms, dependent variables are those that you need to predict, and independent variables are ones using which we predict the dependent variables. These need to be separated as only independent variables need to be passed to network while dependent ones are required to calculate difference (loss) between them and the values predicted by the network"
      ]
    },
    {
      "cell_type": "markdown",
      "metadata": {
        "id": "YfPR5HGA8San",
        "colab_type": "text"
      },
      "source": [
        "According to conventions, the Independent variable(s) are named 'X' and dependent variable(s) are named 'y'. Now, considering that the dependent variable is in last n columns… (1 in this case), the code for it is as simple as :"
      ]
    },
    {
      "cell_type": "code",
      "metadata": {
        "id": "0McfUuV_8TWU",
        "colab_type": "code",
        "colab": {
          "base_uri": "https://localhost:8080/",
          "height": 204
        },
        "outputId": "a8ec8399-0450-4272-ea3f-9c1d9fbcb935"
      },
      "source": [
        "n = 1\n",
        "X = dataset.iloc[:, :-n].values\n",
        "y = dataset.iloc[:, -n].values\n",
        "\n",
        "print(X)\n",
        "print(y)"
      ],
      "execution_count": 30,
      "outputs": [
        {
          "output_type": "stream",
          "text": [
            "[['France' 44.0 72000.0]\n",
            " ['Spain' 27.0 48000.0]\n",
            " ['Germany' 30.0 54000.0]\n",
            " ['Spain' 38.0 61000.0]\n",
            " ['Germany' 40.0 nan]\n",
            " ['France' 35.0 58000.0]\n",
            " ['Spain' nan 52000.0]\n",
            " ['France' 48.0 79000.0]\n",
            " ['Germany' 50.0 83000.0]\n",
            " ['France' 37.0 67000.0]]\n",
            "['No' 'Yes' 'No' 'No' 'Yes' 'Yes' 'No' 'Yes' 'No' 'Yes']\n"
          ],
          "name": "stdout"
        }
      ]
    },
    {
      "cell_type": "markdown",
      "metadata": {
        "id": "ulhi6xXV8XuD",
        "colab_type": "text"
      },
      "source": [
        "Extracting rows is simple in python even without the use of pandas, but extracting columns is a bit tedious. Pandas' 'iloc' method is way more convenient and easy to implement."
      ]
    },
    {
      "cell_type": "markdown",
      "metadata": {
        "id": "TU0sXii58zaG",
        "colab_type": "text"
      },
      "source": [
        "## Handling missing data :"
      ]
    },
    {
      "cell_type": "markdown",
      "metadata": {
        "id": "uCwtw0pq9FGW",
        "colab_type": "text"
      },
      "source": [
        "Many of the times, the dataset may have some missing values. Such missing values, if not dealt with, will lead to errors while fitting our models/training.\n",
        "Missing values can be dealt with by either\n",
        "* Discarding rows that have missing values.\n",
        "* Fill in (or impute) the missing values."
      ]
    },
    {
      "cell_type": "markdown",
      "metadata": {
        "id": "4YWGoXXq9buE",
        "colab_type": "text"
      },
      "source": [
        "### Discarding Rows :"
      ]
    },
    {
      "cell_type": "markdown",
      "metadata": {
        "id": "Sl9_4O5d9gwR",
        "colab_type": "text"
      },
      "source": [
        "In most of the cases, discarding the rows is not advisable as the size of data for training will be reduced and also, if the dataset was balanced for its attributes(like if it has equal number of entries for each class), removing rows will result in data imbalance and the model you train later may become biased.\n",
        "\n",
        "In the rare case that you do need to remove the rows, it can be done so in pandas by 'dropna' function :"
      ]
    },
    {
      "cell_type": "code",
      "metadata": {
        "id": "5u4GSLz49uGO",
        "colab_type": "code",
        "colab": {}
      },
      "source": [
        "# dataset.dropna(inplace=True)"
      ],
      "execution_count": 31,
      "outputs": []
    },
    {
      "cell_type": "markdown",
      "metadata": {
        "id": "KdRmqULl9z2i",
        "colab_type": "text"
      },
      "source": [
        "### Filling in (or imputing) missing values :"
      ]
    },
    {
      "cell_type": "markdown",
      "metadata": {
        "id": "VNeWorpE94Kd",
        "colab_type": "text"
      },
      "source": [
        "Filling in the missing values is a better alternative to removing rows. These values can be filled in using various methods, most common of them being, replacing with mean of that column."
      ]
    },
    {
      "cell_type": "markdown",
      "metadata": {
        "id": "gxECJmap-BH8",
        "colab_type": "text"
      },
      "source": [
        "Method 1 : Using Pandas"
      ]
    },
    {
      "cell_type": "code",
      "metadata": {
        "id": "W_1ZBUbQ99i7",
        "colab_type": "code",
        "colab": {}
      },
      "source": [
        "# dataset.fillna(dataset.mean(), inplace=True)"
      ],
      "execution_count": 32,
      "outputs": []
    },
    {
      "cell_type": "markdown",
      "metadata": {
        "id": "ZOlC6tbC-Ntp",
        "colab_type": "text"
      },
      "source": [
        "Method 2 : Using sklearn\n",
        "\n",
        "I prefer using sklearn as it here you can specify what value is to be replaced (may it be NaN or other) and also the technique to be used for replacement. As I mentioned, most common is replacing by mean, but other techniques like replacing with mode or median are also used and can be implemented in sklearn. (Specify this in strategy attribute)"
      ]
    },
    {
      "cell_type": "code",
      "metadata": {
        "id": "O9sKI7vJ-TD9",
        "colab_type": "code",
        "colab": {
          "base_uri": "https://localhost:8080/",
          "height": 187
        },
        "outputId": "ee050206-d7b0-40c1-8df4-173a4264cd8d"
      },
      "source": [
        "import numpy as np\n",
        "from sklearn.impute import SimpleImputer\n",
        "imputer = SimpleImputer(missing_values=np.nan, strategy='mean')\n",
        "start = 1\n",
        "end = 3\n",
        "imputer.fit(X[:, start:end])\n",
        "X[:, start:end] = imputer.transform(X[:, start:end])\n",
        "print(X)"
      ],
      "execution_count": 33,
      "outputs": [
        {
          "output_type": "stream",
          "text": [
            "[['France' 44.0 72000.0]\n",
            " ['Spain' 27.0 48000.0]\n",
            " ['Germany' 30.0 54000.0]\n",
            " ['Spain' 38.0 61000.0]\n",
            " ['Germany' 40.0 63777.77777777778]\n",
            " ['France' 35.0 58000.0]\n",
            " ['Spain' 38.77777777777778 52000.0]\n",
            " ['France' 48.0 79000.0]\n",
            " ['Germany' 50.0 83000.0]\n",
            " ['France' 37.0 67000.0]]\n"
          ],
          "name": "stdout"
        }
      ]
    },
    {
      "cell_type": "markdown",
      "metadata": {
        "id": "PjSG7Ujc7ek5",
        "colab_type": "text"
      },
      "source": [
        "## Encoding Categorical Data :"
      ]
    },
    {
      "cell_type": "markdown",
      "metadata": {
        "id": "7VBP41dNLW9c",
        "colab_type": "text"
      },
      "source": [
        "Now that we have properly dealt with missing data, it's time to deal with categorical data.\n",
        "\n",
        "We can see that the first column in the dataset is categorical (It takes value amongst several categories) and is not numeric in nature. Such attributes need to be converted to numeric so that it can be easily interpreted by our model in next stages of the project."
      ]
    },
    {
      "cell_type": "markdown",
      "metadata": {
        "id": "7qe9yMVtL7iQ",
        "colab_type": "text"
      },
      "source": [
        "### One Hot Encoding :"
      ]
    },
    {
      "cell_type": "markdown",
      "metadata": {
        "id": "q28iQMhpMD4-",
        "colab_type": "text"
      },
      "source": [
        "One Hot Encoding is useful for this. One Hot Encoder takes all the discrete categories for an attribute and adds those many columns in the data, one for each category. The presence of category is indicated by a value of '1' for that column. \n",
        "\n",
        "(eg: For current data, there are 3 different countries in first column so One Hot Encoder will add 3 columns to the data, one for France, one for Spain and one for Germany)"
      ]
    },
    {
      "cell_type": "code",
      "metadata": {
        "id": "ug961lgE7dsr",
        "colab_type": "code",
        "colab": {
          "base_uri": "https://localhost:8080/",
          "height": 187
        },
        "outputId": "fedb58b0-959b-4d4e-e113-2f1a35c777f9"
      },
      "source": [
        "from sklearn.compose import ColumnTransformer\n",
        "from sklearn.preprocessing import OneHotEncoder\n",
        "ct = ColumnTransformer(transformers=[('encoder', OneHotEncoder(), [0])], remainder='passthrough')\n",
        "X = np.array(ct.fit_transform(X))\n",
        "\n",
        "print(X)"
      ],
      "execution_count": 34,
      "outputs": [
        {
          "output_type": "stream",
          "text": [
            "[[1.0 0.0 0.0 44.0 72000.0]\n",
            " [0.0 0.0 1.0 27.0 48000.0]\n",
            " [0.0 1.0 0.0 30.0 54000.0]\n",
            " [0.0 0.0 1.0 38.0 61000.0]\n",
            " [0.0 1.0 0.0 40.0 63777.77777777778]\n",
            " [1.0 0.0 0.0 35.0 58000.0]\n",
            " [0.0 0.0 1.0 38.77777777777778 52000.0]\n",
            " [1.0 0.0 0.0 48.0 79000.0]\n",
            " [0.0 1.0 0.0 50.0 83000.0]\n",
            " [1.0 0.0 0.0 37.0 67000.0]]\n"
          ],
          "name": "stdout"
        }
      ]
    },
    {
      "cell_type": "markdown",
      "metadata": {
        "id": "s7N4zGFCLMvD",
        "colab_type": "text"
      },
      "source": [
        "### Label Encoder :"
      ]
    },
    {
      "cell_type": "markdown",
      "metadata": {
        "id": "FYIRZWJAMOUS",
        "colab_type": "text"
      },
      "source": [
        "If the categorical variable is binary, or for some reason the number of columns cannot be increased, a label encoder can be used. Label encoder essentially converts nominal attribute to numeric by taking the number of discrete attributes and assigning each of them a number. \n",
        "\n",
        "Eg. Here the dependent variable is binary, so if label encoder is used, the 'No' will be converted to 0 and 'Yes' will be converted to 1. (For more categories, the label encoder will assign next numbers, i.e. 2, 3, 4 and so on).\n",
        "\n",
        "This intuitively makes more sense to us as adding columns in one hot encoding seems redundant, but in practice, One Hot Encoding is actually preferred over Label encoding. This is because numerical attributes are considered by value by the ML algorithms, meaning it will consider the attribute with label 4 to be of more value than one with label 3 (As  4>3), although in reality, both have equivalent significance.\n",
        "\n",
        "In case of binary attributes, label encoder is preferred as only 1s and 0s will be the labels and adding columns for this is unnecessary."
      ]
    },
    {
      "cell_type": "code",
      "metadata": {
        "id": "2R6N2Ik6Q__o",
        "colab_type": "code",
        "colab": {
          "base_uri": "https://localhost:8080/",
          "height": 34
        },
        "outputId": "b6ffd76e-807a-4d66-9309-650f2f49e581"
      },
      "source": [
        "from sklearn.preprocessing import LabelEncoder\n",
        "le = LabelEncoder()\n",
        "y = le.fit_transform(y)\n",
        "print(y)"
      ],
      "execution_count": 35,
      "outputs": [
        {
          "output_type": "stream",
          "text": [
            "[0 1 0 0 1 1 0 1 0 1]\n"
          ],
          "name": "stdout"
        }
      ]
    },
    {
      "cell_type": "markdown",
      "metadata": {
        "id": "aPoO7OxuMfrZ",
        "colab_type": "text"
      },
      "source": [
        "## Splitting The Data :"
      ]
    },
    {
      "cell_type": "markdown",
      "metadata": {
        "id": "UcXdWIooMizY",
        "colab_type": "text"
      },
      "source": [
        "Again, I've written a bit about this in my previous article, and I'll quote the same here.\n",
        "\n",
        "We will train our network on certain section of data. Testing determines the real world working of our model. Consider an example where you have been taught a new word and your teacher gives you an example by using it in a sentence. Now, to show that you have got the meaning of that word, you must use it in another sentence, using it in the same sentence is useless. Similarly, testing our model with the same data on which it was trained is useless. Thus we split the dataset and reserve some part of it for testing, which will give us a real estimate of how good the model works on previously unseen data.\n",
        "\n",
        "That said, lets move on to the code…\n",
        "\n",
        "sklearn provides the simplest way to split data into train and test sets, and its just a matter of 2 lines. One argument it requires is the test set size. This signifies the fraction of data which you want to use as the test set. (Eg : test_size=0.2 will keep 20% of data in the test set.)"
      ]
    },
    {
      "cell_type": "code",
      "metadata": {
        "id": "9nb6EcbCQ8UY",
        "colab_type": "code",
        "colab": {
          "base_uri": "https://localhost:8080/",
          "height": 221
        },
        "outputId": "861139f4-30d2-475b-9688-c311a08f0373"
      },
      "source": [
        "from sklearn.model_selection import train_test_split\n",
        "X_train, X_test, y_train, y_test = train_test_split(X, y, test_size = 0.2, random_state = 1)\n",
        "print(X_train)\n",
        "print(X_test)\n",
        "print(y_train)\n",
        "print(y_test)"
      ],
      "execution_count": 36,
      "outputs": [
        {
          "output_type": "stream",
          "text": [
            "[[0.0 0.0 1.0 38.77777777777778 52000.0]\n",
            " [0.0 1.0 0.0 40.0 63777.77777777778]\n",
            " [1.0 0.0 0.0 44.0 72000.0]\n",
            " [0.0 0.0 1.0 38.0 61000.0]\n",
            " [0.0 0.0 1.0 27.0 48000.0]\n",
            " [1.0 0.0 0.0 48.0 79000.0]\n",
            " [0.0 1.0 0.0 50.0 83000.0]\n",
            " [1.0 0.0 0.0 35.0 58000.0]]\n",
            "[[0.0 1.0 0.0 30.0 54000.0]\n",
            " [1.0 0.0 0.0 37.0 67000.0]]\n",
            "[0 1 0 0 1 1 0 1]\n",
            "[0 1]\n"
          ],
          "name": "stdout"
        }
      ]
    },
    {
      "cell_type": "markdown",
      "metadata": {
        "id": "l__kMnd4Mu1Y",
        "colab_type": "text"
      },
      "source": [
        "## Feature Scaling :"
      ]
    },
    {
      "cell_type": "markdown",
      "metadata": {
        "id": "L4YjqyavMzu2",
        "colab_type": "text"
      },
      "source": [
        "We're almost done… Last section is feature scaling. As you can see, the last 2 attributes in the training set are numerical. Again, being numerical, ML algorithms will give more significance to the attributes with higher value, in this case, salary attribute has values in thousands, while ages are less than 100, so to remove this bias and give equal significance to all attributes, feature scaling is essential.\n",
        "\n",
        "Feature scaling fits the numerical attributes to a common scale (typically -1 to +1)\n",
        "\n",
        "3rd and 4th columns had to be scaled thus start index is set as 3, and no end index signifies that rest all columns are to be considered."
      ]
    },
    {
      "cell_type": "code",
      "metadata": {
        "id": "mV0QpVpeFxzR",
        "colab_type": "code",
        "colab": {
          "base_uri": "https://localhost:8080/",
          "height": 187
        },
        "outputId": "9dc92df8-0902-4ec9-d2d1-3f1fdd9c1e21"
      },
      "source": [
        "from sklearn.preprocessing import StandardScaler\n",
        "sc = StandardScaler()\n",
        "start = 3\n",
        "X_train[:, start:] = sc.fit_transform(X_train[:, start:])\n",
        "X_test[:, start:] = sc.transform(X_test[:, start:])\n",
        "print(X_train)\n",
        "print(X_test)"
      ],
      "execution_count": 37,
      "outputs": [
        {
          "output_type": "stream",
          "text": [
            "[[0.0 0.0 1.0 -0.19159184384578545 -1.0781259408412425]\n",
            " [0.0 1.0 0.0 -0.014117293757057777 -0.07013167641635372]\n",
            " [1.0 0.0 0.0 0.566708506533324 0.633562432710455]\n",
            " [0.0 0.0 1.0 -0.30453019390224867 -0.30786617274297867]\n",
            " [0.0 0.0 1.0 -1.9018011447007988 -1.420463615551582]\n",
            " [1.0 0.0 0.0 1.1475343068237058 1.232653363453549]\n",
            " [0.0 1.0 0.0 1.4379472069688968 1.5749910381638885]\n",
            " [1.0 0.0 0.0 -0.7401495441200351 -0.5646194287757332]]\n",
            "[[0.0 1.0 0.0 -1.4661817944830124 -0.9069571034860727]\n",
            " [1.0 0.0 0.0 -0.44973664397484414 0.2056403393225306]]\n"
          ],
          "name": "stdout"
        }
      ]
    }
  ]
}